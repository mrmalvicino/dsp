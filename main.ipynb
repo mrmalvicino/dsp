{
 "cells": [
  {
   "cell_type": "markdown",
   "metadata": {},
   "source": [
    "# DSP"
   ]
  },
  {
   "cell_type": "markdown",
   "metadata": {},
   "source": [
    "## Generator and Graph classes"
   ]
  },
  {
   "cell_type": "code",
   "execution_count": null,
   "metadata": {},
   "outputs": [],
   "source": [
    "from dsp.functions import *\n",
    "\n",
    "from dsp.generator import Generator\n",
    "generator = Generator()\n",
    "\n",
    "from dsp.graph import Graph\n",
    "graph = Graph()"
   ]
  },
  {
   "cell_type": "markdown",
   "metadata": {},
   "source": [
    "### Square pulse"
   ]
  },
  {
   "cell_type": "code",
   "execution_count": null,
   "metadata": {},
   "outputs": [],
   "source": [
    "samples_array = generator.samples_array()\n",
    "discrete_signal = generator.square_pulse(samples_array)\n",
    "\n",
    "square_pulse_graph = graph.plot_multiple_overlaids(samples_array, [discrete_signal], ['Square pulse'], True)"
   ]
  },
  {
   "cell_type": "markdown",
   "metadata": {},
   "source": [
    "### Sinewaves with parameters"
   ]
  },
  {
   "cell_type": "code",
   "execution_count": null,
   "metadata": {},
   "outputs": [],
   "source": [
    "time_array = generator.arange_time_array(200)\n",
    "\n",
    "sine_array_1 = generator.sinewave(time_array, wave_frequency = 200)\n",
    "sine_array_2 = generator.sinewave(time_array, wave_frequency = 2000, wave_amplitude = 0.5)\n",
    "sine_array_3 = generator.sinewave(time_array, wave_frequency = 500, phase_deg = 90)\n",
    "\n",
    "y_data_list = [sine_array_1, sine_array_2, sine_array_3]\n",
    "y_legends_list = ['200 Hz', '2k Hz', '500 Hz']\n",
    "\n",
    "sinewave_graph = graph.plot_multiple_overlaids(time_array, y_data_list, y_legends_list)"
   ]
  },
  {
   "cell_type": "markdown",
   "metadata": {},
   "source": [
    "### List of sinewaves"
   ]
  },
  {
   "cell_type": "code",
   "execution_count": null,
   "metadata": {},
   "outputs": [],
   "source": [
    "list_of_tuples = generator.sinewaves_list(200, 2000, 500, 400)\n",
    "sinewaves_list_graph = graph.plot_sinewaves_list(list_of_tuples)"
   ]
  },
  {
   "cell_type": "markdown",
   "metadata": {},
   "source": [
    "### Save files"
   ]
  },
  {
   "cell_type": "code",
   "execution_count": null,
   "metadata": {},
   "outputs": [],
   "source": [
    "root_dir = os.getcwd()\n",
    "output_dir = os.path.join(root_dir, 'output')\n",
    "\n",
    "save_plot(sinewave_graph, file_dir = output_dir, file_name = 'sinewaves_plot')\n",
    "save_array(samples_array, file_dir = output_dir, file_name = 'sq_samples')\n",
    "save_array(discrete_signal, file_dir = output_dir, file_name = 'sq_amplitude')"
   ]
  },
  {
   "cell_type": "markdown",
   "metadata": {},
   "source": [
    "# DSP"
   ]
  },
  {
   "cell_type": "code",
   "execution_count": 3,
   "metadata": {},
   "outputs": [
    {
     "name": "stdout",
     "output_type": "stream",
     "text": [
      "sinewave\n"
     ]
    }
   ],
   "source": [
    "from dsp.signal import Signal\n",
    "from dsp.generator import Generator\n",
    "from dsp.graph import Graph\n",
    "\n",
    "voltage = Generator()\n",
    "\n",
    "voltage.waveform = \"sinewave\"\n",
    "voltage.signal.description = \"Voltage [V]\"\n"
   ]
  }
 ],
 "metadata": {
  "kernelspec": {
   "display_name": "Python 3",
   "language": "python",
   "name": "python3"
  },
  "language_info": {
   "codemirror_mode": {
    "name": "ipython",
    "version": 3
   },
   "file_extension": ".py",
   "mimetype": "text/x-python",
   "name": "python",
   "nbconvert_exporter": "python",
   "pygments_lexer": "ipython3",
   "version": "3.11.2"
  },
  "orig_nbformat": 4
 },
 "nbformat": 4,
 "nbformat_minor": 2
}
