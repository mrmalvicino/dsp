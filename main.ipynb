{
 "cells": [
  {
   "cell_type": "markdown",
   "metadata": {},
   "source": [
    "# Signals Processing examples"
   ]
  },
  {
   "cell_type": "markdown",
   "metadata": {},
   "source": [
    "## Imports"
   ]
  },
  {
   "cell_type": "code",
   "execution_count": null,
   "metadata": {},
   "outputs": [],
   "source": [
    "import os\n",
    "import sys\n",
    "\n",
    "root_dir = os.getcwd()\n",
    "new_path = os.path.realpath(os.path.join(root_dir, 'signals'))\n",
    "sys.path.insert(0, new_path)"
   ]
  },
  {
   "cell_type": "markdown",
   "metadata": {},
   "source": [
    "## Generator and Graph classes"
   ]
  },
  {
   "cell_type": "code",
   "execution_count": null,
   "metadata": {},
   "outputs": [],
   "source": [
    "from generator import Generator\n",
    "generator = Generator()\n",
    "\n",
    "from graph import Graph\n",
    "graph = Graph()"
   ]
  },
  {
   "cell_type": "markdown",
   "metadata": {},
   "source": [
    "- Generate discrete signal"
   ]
  },
  {
   "cell_type": "code",
   "execution_count": null,
   "metadata": {},
   "outputs": [],
   "source": [
    "is_closed_interval = True\n",
    "starting_sample = 0             # Used in unit_impulse(), unit_step(), triangle_pulse()\n",
    "ending_sample = 25              # Used in generator.\n",
    "impulse_sample = 15             # Used in generator.unit_impulse()\n",
    "step_sample = impulse_sample    # Used in generator.unit_step()\n",
    "turn_on = 5                     # Used in generator.square_pulse()\n",
    "turn_off = 10                   # Used in generator.square_pulse()\n",
    "half_base = 5                   # Used in generator.triangle_pulse()\n",
    "mu_expectation = 0              # Used in generator.random_signal()\n",
    "sigma_deviation = 1             # Used in generator.random_signal()\n",
    "\n",
    "x_data = generator.samples_array(starting_sample, ending_sample, is_closed_interval)\n",
    "y_data = generator.square_pulse(x_data, turn_on, turn_off)"
   ]
  },
  {
   "cell_type": "markdown",
   "metadata": {},
   "source": [
    "- Graph discrete signal"
   ]
  },
  {
   "cell_type": "code",
   "execution_count": null,
   "metadata": {},
   "outputs": [],
   "source": [
    "square_pulse_graph = graph.multiple_overlaids(x_data, [y_data], ['Unit impulse'], True)"
   ]
  },
  {
   "cell_type": "markdown",
   "metadata": {},
   "source": [
    "- Save discrete signal"
   ]
  },
  {
   "cell_type": "code",
   "execution_count": null,
   "metadata": {},
   "outputs": [],
   "source": [
    "#save(graph, file_dir=os.path.join(root_dir, 'images'), file_name=signal_name+'Plot')\n",
    "#save(n, file_dir=os.path.join(root_dir, 'files'), file_name=signal_name+'Array_n')\n",
    "#save(x, file_dir=os.path.join(root_dir, 'files'), file_name=signal_name+'Array_x')"
   ]
  }
 ],
 "metadata": {
  "kernelspec": {
   "display_name": "Python 3",
   "language": "python",
   "name": "python3"
  },
  "language_info": {
   "codemirror_mode": {
    "name": "ipython",
    "version": 3
   },
   "file_extension": ".py",
   "mimetype": "text/x-python",
   "name": "python",
   "nbconvert_exporter": "python",
   "pygments_lexer": "ipython3",
   "version": "3.11.2"
  },
  "orig_nbformat": 4
 },
 "nbformat": 4,
 "nbformat_minor": 2
}
