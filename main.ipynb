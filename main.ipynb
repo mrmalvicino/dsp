{
 "cells": [
  {
   "cell_type": "markdown",
   "metadata": {},
   "source": [
    "# Signals Processing examples"
   ]
  },
  {
   "cell_type": "markdown",
   "metadata": {},
   "source": [
    "## Import package\n",
    "\n",
    "Add the signals package to the path."
   ]
  },
  {
   "cell_type": "code",
   "execution_count": null,
   "metadata": {},
   "outputs": [],
   "source": [
    "import os\n",
    "import sys\n",
    "\n",
    "root_dir = os.getcwd()\n",
    "new_path = os.path.realpath(os.path.join(root_dir, 'signals'))\n",
    "sys.path.insert(0, new_path)"
   ]
  },
  {
   "cell_type": "markdown",
   "metadata": {},
   "source": [
    "## Generator and Graph classes\n",
    "\n",
    "Import Generator and Graph classes and global functions."
   ]
  },
  {
   "cell_type": "code",
   "execution_count": null,
   "metadata": {},
   "outputs": [],
   "source": [
    "from functions import *\n",
    "\n",
    "from generator import Generator\n",
    "generator = Generator()\n",
    "\n",
    "from graph import Graph\n",
    "graph = Graph()"
   ]
  },
  {
   "cell_type": "markdown",
   "metadata": {},
   "source": [
    "### Square pulse"
   ]
  },
  {
   "cell_type": "markdown",
   "metadata": {},
   "source": [
    "Generate the x and y data."
   ]
  },
  {
   "cell_type": "code",
   "execution_count": null,
   "metadata": {},
   "outputs": [],
   "source": [
    "is_closed_interval = True\n",
    "starting_sample = 0             # Used in unit_impulse(), unit_step(), triangle_pulse()\n",
    "ending_sample = 25              # Used in unit_impulse(), unit_step(), triangle_pulse()\n",
    "impulse_sample = 15             # Used in generator.unit_impulse()\n",
    "step_sample = impulse_sample    # Used in generator.unit_step()\n",
    "turn_on = 5                     # Used in generator.square_pulse()\n",
    "turn_off = 10                   # Used in generator.square_pulse()\n",
    "half_base = 5                   # Used in generator.triangle_pulse()\n",
    "mu_expectation = 0              # Used in generator.random_signal()\n",
    "sigma_deviation = 1             # Used in generator.random_signal()\n",
    "\n",
    "samples_array = generator.samples_array(starting_sample, ending_sample, is_closed_interval)\n",
    "discrete_signal = generator.square_pulse(samples_array, turn_on, turn_off)"
   ]
  },
  {
   "cell_type": "markdown",
   "metadata": {},
   "source": [
    "Graph the signal."
   ]
  },
  {
   "cell_type": "code",
   "execution_count": null,
   "metadata": {},
   "outputs": [],
   "source": [
    "square_pulse_graph = graph.plot_multiple_overlaids(samples_array, [discrete_signal], ['Square pulse'], True)"
   ]
  },
  {
   "cell_type": "markdown",
   "metadata": {},
   "source": [
    "### Sinewaves with parameters"
   ]
  },
  {
   "cell_type": "markdown",
   "metadata": {},
   "source": [
    "There are two methods to generate time arrays."
   ]
  },
  {
   "cell_type": "code",
   "execution_count": null,
   "metadata": {},
   "outputs": [],
   "source": [
    "time_array_1 = generator.arange_time_array(wave_frequency = 200, is_closed_interval = True)\n",
    "time_array_2 = generator.arange_time_array(wave_frequency = 200, is_closed_interval = False)\n",
    "time_array_3 = generator.linspace_time_array(wave_frequency = 200, is_closed_interval = True)\n",
    "time_array_4 = generator.linspace_time_array(wave_frequency = 200, is_closed_interval = False)\n",
    "\n",
    "print('time_array_1:')\n",
    "print(f'Amount of samples: {len(time_array_1)}')\n",
    "print(f'Final value: {time_array_1[-1]}')\n",
    "\n",
    "print('\\ntime_array_2:')\n",
    "print(f'Amount of samples: {len(time_array_2)}')\n",
    "print(f'Final value: {time_array_2[-1]}')\n",
    "\n",
    "print('\\ntime_array_3:')\n",
    "print(f'Amount of samples: {len(time_array_3)}')\n",
    "print(f'Final value: {time_array_3[-1]}')\n",
    "\n",
    "print('\\ntime_array_4:')\n",
    "print(f'Amount of samples: {len(time_array_4)}')\n",
    "print(f'Final value: {time_array_4[-1]}')"
   ]
  },
  {
   "cell_type": "markdown",
   "metadata": {},
   "source": [
    "Generate the signals."
   ]
  },
  {
   "cell_type": "code",
   "execution_count": null,
   "metadata": {},
   "outputs": [],
   "source": [
    "time_array = time_array_1\n",
    "\n",
    "sine_array_1 = generator.sinewave(time_array, wave_frequency = 200)\n",
    "sine_array_2 = generator.sinewave(time_array, wave_frequency = 2000, wave_amplitude = 0.5)\n",
    "sine_array_3 = generator.sinewave(time_array, wave_frequency = 500, phase_deg = 90)\n",
    "\n",
    "y_data_list = [sine_array_1, sine_array_2, sine_array_3]\n",
    "y_legends_list = ['200 Hz', '2k Hz', '500 Hz']"
   ]
  },
  {
   "cell_type": "markdown",
   "metadata": {},
   "source": [
    "Graph the signals."
   ]
  },
  {
   "cell_type": "code",
   "execution_count": null,
   "metadata": {},
   "outputs": [],
   "source": [
    "sinewave_graph = graph.plot_multiple_overlaids(time_array, y_data_list, y_legends_list)"
   ]
  },
  {
   "cell_type": "markdown",
   "metadata": {},
   "source": [
    "### List of sinewaves"
   ]
  },
  {
   "cell_type": "code",
   "execution_count": null,
   "metadata": {},
   "outputs": [],
   "source": [
    "list_of_tuples = generator.sinewaves_list(200, 2000, 500)\n",
    "sinewaves_list_graph = graph.sinewaves_list(list_of_tuples)"
   ]
  },
  {
   "cell_type": "markdown",
   "metadata": {},
   "source": [
    "### Save arrays and graph"
   ]
  },
  {
   "cell_type": "code",
   "execution_count": null,
   "metadata": {},
   "outputs": [],
   "source": [
    "save_plot(sinewave_graph, file_dir = os.path.join(root_dir, 'output'), file_name = 'sinewaves_plot')\n",
    "save_array(samples_array, file_dir = os.path.join(root_dir, 'output'), file_name = 'sq_samples')\n",
    "save_array(discrete_signal, file_dir = os.path.join(root_dir, 'output'), file_name = 'sq_amplitude')"
   ]
  }
 ],
 "metadata": {
  "kernelspec": {
   "display_name": "Python 3",
   "language": "python",
   "name": "python3"
  },
  "language_info": {
   "codemirror_mode": {
    "name": "ipython",
    "version": 3
   },
   "file_extension": ".py",
   "mimetype": "text/x-python",
   "name": "python",
   "nbconvert_exporter": "python",
   "pygments_lexer": "ipython3",
   "version": "3.11.2"
  },
  "orig_nbformat": 4
 },
 "nbformat": 4,
 "nbformat_minor": 2
}
