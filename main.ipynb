{
 "cells": [
  {
   "cell_type": "markdown",
   "metadata": {},
   "source": [
    "# DSP"
   ]
  },
  {
   "cell_type": "code",
   "execution_count": null,
   "metadata": {},
   "outputs": [],
   "source": [
    "from dsp.signal import Signal\n",
    "from dsp.generator import Generator\n",
    "from dsp.grapher import Grapher\n",
    "\n",
    "voltage = Signal()\n",
    "current = Signal()\n",
    "\n",
    "generator = Generator()\n",
    "grapher = Grapher()\n",
    "\n",
    "\n",
    "voltage = generator.sinewave(fundamental_frequency = 50, fundamental_phase = 90, description = \"Voltage\")\n",
    "current = generator.sinewave(fundamental_frequency = 50, fundamental_amplitude = 0.3, description = \"Current\")\n",
    "\n",
    "graph = grapher.plot_signal(voltage)\n",
    "graph = grapher.plot_signal(current)\n"
   ]
  }
 ],
 "metadata": {
  "kernelspec": {
   "display_name": "Python 3",
   "language": "python",
   "name": "python3"
  },
  "language_info": {
   "codemirror_mode": {
    "name": "ipython",
    "version": 3
   },
   "file_extension": ".py",
   "mimetype": "text/x-python",
   "name": "python",
   "nbconvert_exporter": "python",
   "pygments_lexer": "ipython3",
   "version": "3.11.2"
  },
  "orig_nbformat": 4
 },
 "nbformat": 4,
 "nbformat_minor": 2
}
