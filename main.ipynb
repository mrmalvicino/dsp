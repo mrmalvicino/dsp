{
 "cells": [
  {
   "cell_type": "code",
   "execution_count": null,
   "metadata": {},
   "outputs": [],
   "source": [
    "from matplotlib import pyplot as plt\n",
    "import numpy as np\n",
    "import os\n",
    "import sys"
   ]
  },
  {
   "cell_type": "code",
   "execution_count": null,
   "metadata": {},
   "outputs": [],
   "source": [
    "root_dir = os.getcwd()\n",
    "gen_signals_path = os.path.realpath(os.path.join(root_dir, 'functions'))\n",
    "sys.path.insert(0, gen_signals_path)\n",
    "import gen_signals as gensig"
   ]
  },
  {
   "cell_type": "code",
   "execution_count": null,
   "metadata": {},
   "outputs": [],
   "source": [
    "wave_frequency = 50\n",
    "amount_of_periods = 1\n",
    "sampling_rate = 44100\n",
    "\n",
    "time_array = gensig.generateTimeArray(wave_frequency, amount_of_periods, sampling_rate)"
   ]
  },
  {
   "cell_type": "code",
   "execution_count": null,
   "metadata": {},
   "outputs": [],
   "source": [
    "voltage_phase = 0\n",
    "voltage_amplitude = 1\n",
    "\n",
    "voltage_signal = gensig.generateSine(time_array, wave_frequency, phase_deg = voltage_phase, wave_amplitude = voltage_amplitude)"
   ]
  },
  {
   "cell_type": "code",
   "execution_count": null,
   "metadata": {},
   "outputs": [],
   "source": [
    "current_phase = 90\n",
    "current_amplitude = 0.3\n",
    "\n",
    "current_signal = gensig.generateSine(time_array, wave_frequency, phase_deg = current_phase, wave_amplitude = current_amplitude)"
   ]
  },
  {
   "cell_type": "code",
   "execution_count": null,
   "metadata": {},
   "outputs": [],
   "source": [
    "plt.figure(figsize=(8,4))\n",
    "plt.plot(time_array, voltage_signal, label = \"Voltage\", color = \"blue\", linestyle = \"-\")\n",
    "plt.plot(time_array, current_signal, label = \"Current\", color = \"red\", linestyle = \"-\")\n",
    "plt.plot(time_array, voltage_signal * current_signal, label = \"Power\", color = \"green\", linestyle = \"--\")\n",
    "plt.grid()\n",
    "plt.xlabel(\"x\")\n",
    "plt.ylabel(\"y\")\n",
    "plt.legend()"
   ]
  }
 ],
 "metadata": {
  "kernelspec": {
   "display_name": "Python 3",
   "language": "python",
   "name": "python3"
  },
  "language_info": {
   "codemirror_mode": {
    "name": "ipython",
    "version": 3
   },
   "file_extension": ".py",
   "mimetype": "text/x-python",
   "name": "python",
   "nbconvert_exporter": "python",
   "pygments_lexer": "ipython3",
   "version": "3.11.5"
  },
  "orig_nbformat": 4
 },
 "nbformat": 4,
 "nbformat_minor": 2
}
