{
 "cells": [
  {
   "cell_type": "markdown",
   "metadata": {},
   "source": [
    "# DSP"
   ]
  },
  {
   "cell_type": "markdown",
   "metadata": {},
   "source": [
    "## Simple sinewaves"
   ]
  },
  {
   "cell_type": "code",
   "execution_count": null,
   "metadata": {},
   "outputs": [],
   "source": [
    "from dsp.generator import Generator\n",
    "from dsp.grapher import Grapher\n",
    "\n",
    "generator = Generator()\n",
    "grapher = Grapher()\n",
    "\n",
    "signal_0 = generator.sinewave(fundamental_frequency = 50, fundamental_phase = 90)\n",
    "\n",
    "signal_graph = grapher.plot_signal(signal_0)"
   ]
  },
  {
   "cell_type": "markdown",
   "metadata": {},
   "source": [
    "## Sum of sinewaves"
   ]
  },
  {
   "cell_type": "code",
   "execution_count": null,
   "metadata": {},
   "outputs": [],
   "source": [
    "# Falta programar la suma cuando la frecuencia es más del doble.\n",
    "# Hay un bug en la forma de onda para ondas de igual frecuencia cuanndo el defasaje es 180 grados.\n",
    "# Revisar cómo sería correto programar el espectro de frecuencias para ondas de igual frecuencia.\n",
    "# Falta programar el ordenamiento de arrays de espectro y setear amplitud y fase fundamentales con cada primer elemento.\n",
    "# Verificar el período de la suma"
   ]
  },
  {
   "cell_type": "code",
   "execution_count": null,
   "metadata": {},
   "outputs": [],
   "source": [
    "from dsp.generator import Generator\n",
    "from dsp.grapher import Grapher\n",
    "\n",
    "generator = Generator()\n",
    "grapher = Grapher()\n",
    "\n",
    "signal_1 = generator.sinewave(fundamental_frequency = 2500, fundamental_amplitude = 1.5)\n",
    "signal_2 = generator.sinewave(fundamental_frequency = 440, fundamental_phase = 30)\n",
    "signal_3 = generator.sinewave(fundamental_frequency = 2000, fundamental_phase = 120)\n",
    "signal_sum = generator.sum_signals(signal_1, signal_2, signal_3)\n",
    "\n",
    "sum_graph = grapher.plot_signal(signal_sum)"
   ]
  },
  {
   "cell_type": "markdown",
   "metadata": {},
   "source": [
    "## Graph waveforms"
   ]
  },
  {
   "cell_type": "code",
   "execution_count": null,
   "metadata": {},
   "outputs": [],
   "source": [
    "from dsp.generator import Generator\n",
    "from dsp.grapher import Grapher\n",
    "\n",
    "generator = Generator()\n",
    "grapher = Grapher()\n",
    "\n",
    "signal_4 = generator.sinewave(fundamental_frequency = 120, fundamental_amplitude = 2)\n",
    "signal_5 = generator.sinewave(fundamental_frequency = 50, fundamental_phase = 90)\n",
    "signal_6 = generator.sinewave(fundamental_frequency = 230, fundamental_amplitude = 0.5)\n",
    "\n",
    "waveforms_graph = grapher.plot_waveforms(signal_4, signal_5, signal_6)"
   ]
  },
  {
   "cell_type": "markdown",
   "metadata": {},
   "source": [
    "## Graph Spectrum"
   ]
  },
  {
   "cell_type": "code",
   "execution_count": null,
   "metadata": {},
   "outputs": [],
   "source": [
    "from dsp.signal import Signal\n",
    "from dsp.archive import Archive\n",
    "from dsp.grapher import Grapher\n",
    "\n",
    "signal_7 = Signal()\n",
    "archive = Archive()\n",
    "grapher = Grapher()\n",
    "\n",
    "path = archive.resources_path + \"/signal_1.npy\"\n",
    "signal_7.load_spectrum(path)\n",
    "signal_7.description = \"Speaker\"\n",
    "\n",
    "spec_graph = grapher.plot_spectrum(signal_7)"
   ]
  }
 ],
 "metadata": {
  "kernelspec": {
   "display_name": "Python 3",
   "language": "python",
   "name": "python3"
  },
  "language_info": {
   "codemirror_mode": {
    "name": "ipython",
    "version": 3
   },
   "file_extension": ".py",
   "mimetype": "text/x-python",
   "name": "python",
   "nbconvert_exporter": "python",
   "pygments_lexer": "ipython3",
   "version": "3.11.2"
  },
  "orig_nbformat": 4
 },
 "nbformat": 4,
 "nbformat_minor": 2
}
