{
 "cells": [
  {
   "cell_type": "markdown",
   "metadata": {},
   "source": [
    "# DSP"
   ]
  },
  {
   "cell_type": "markdown",
   "metadata": {},
   "source": [
    "## Simple sinewaves"
   ]
  },
  {
   "cell_type": "code",
   "execution_count": null,
   "metadata": {},
   "outputs": [],
   "source": [
    "from dsp.signal import Signal\n",
    "from dsp.generator import Generator\n",
    "from dsp.grapher import Grapher\n",
    "\n",
    "generator = Generator()\n",
    "grapher = Grapher()\n",
    "\n",
    "sinewave_0 = Signal()\n",
    "sinewave_0 = generator.sinewave(fundamental_frequency = 50, fundamental_phase = 90)\n",
    "\n",
    "voltage_graph = grapher.plot_signal(sinewave_0)"
   ]
  },
  {
   "cell_type": "markdown",
   "metadata": {},
   "source": [
    "## Sum of sinewaves"
   ]
  },
  {
   "cell_type": "code",
   "execution_count": null,
   "metadata": {},
   "outputs": [],
   "source": [
    "from dsp.signal import Signal\n",
    "from dsp.generator import Generator\n",
    "from dsp.grapher import Grapher\n",
    "\n",
    "generator = Generator()\n",
    "grapher = Grapher()\n",
    "\n",
    "sinewave_1 = Signal()\n",
    "sinewave_2 = Signal()\n",
    "signal_sum = Signal()\n",
    "\n",
    "sinewave_1 = generator.sinewave(fundamental_frequency = 2500, fundamental_amplitude = 1.5)\n",
    "sinewave_2 = generator.sinewave(fundamental_frequency = 4000, fundamental_phase = 120)\n",
    "signal_sum = generator.sum_signals(sinewave_1, sinewave_2)\n",
    "\n",
    "graph_sum = grapher.plot_signal(signal_sum)"
   ]
  }
 ],
 "metadata": {
  "kernelspec": {
   "display_name": "Python 3",
   "language": "python",
   "name": "python3"
  },
  "language_info": {
   "codemirror_mode": {
    "name": "ipython",
    "version": 3
   },
   "file_extension": ".py",
   "mimetype": "text/x-python",
   "name": "python",
   "nbconvert_exporter": "python",
   "pygments_lexer": "ipython3",
   "version": "3.11.2"
  },
  "orig_nbformat": 4
 },
 "nbformat": 4,
 "nbformat_minor": 2
}
