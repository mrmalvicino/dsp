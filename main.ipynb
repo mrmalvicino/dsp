{
 "cells": [
  {
   "cell_type": "markdown",
   "metadata": {},
   "source": [
    "# DSP"
   ]
  },
  {
   "cell_type": "markdown",
   "metadata": {},
   "source": [
    "## Simple sinewaves"
   ]
  },
  {
   "cell_type": "code",
   "execution_count": null,
   "metadata": {},
   "outputs": [],
   "source": [
    "from dsp.signal import Signal\n",
    "from dsp.generator import Generator\n",
    "from dsp.grapher import Grapher\n",
    "\n",
    "generator = Generator()\n",
    "grapher = Grapher()\n",
    "\n",
    "sinewave_0 = Signal()\n",
    "sinewave_0 = generator.sinewave(fundamental_frequency = 50, fundamental_phase = 90)\n",
    "\n",
    "sinewave_0_graph = grapher.plot_signal(sinewave_0)"
   ]
  },
  {
   "cell_type": "markdown",
   "metadata": {},
   "source": [
    "## Sum of sinewaves"
   ]
  },
  {
   "cell_type": "code",
   "execution_count": null,
   "metadata": {},
   "outputs": [],
   "source": [
    "# falta programar la suma cuando la frecuencia es más del doble\n",
    "# hay un bug en forma de onda cuanndo el defasaje es 180 grados para ondas de igual frecuencia\n",
    "# ver cómo programar espectro para ondas de igual frecuencia\n",
    "# ordenar arrays de espectro y setear fundamentales después del for"
   ]
  },
  {
   "cell_type": "code",
   "execution_count": null,
   "metadata": {},
   "outputs": [],
   "source": [
    "from dsp.signal import Signal\n",
    "from dsp.generator import Generator\n",
    "from dsp.grapher import Grapher\n",
    "\n",
    "generator = Generator()\n",
    "grapher = Grapher()\n",
    "\n",
    "sinewave_1 = Signal()\n",
    "sinewave_2 = Signal()\n",
    "signal_sum = Signal()\n",
    "\n",
    "sinewave_1 = generator.sinewave(fundamental_frequency = 2500, fundamental_amplitude = 1.5)\n",
    "sinewave_2 = generator.sinewave(fundamental_frequency = 4000, fundamental_phase = 120)\n",
    "signal_sum = generator.sum_signals(sinewave_1, sinewave_2)\n",
    "\n",
    "signal_sum_graph = grapher.plot_signal(signal_sum)"
   ]
  },
  {
   "cell_type": "markdown",
   "metadata": {},
   "source": [
    "## Graph waveforms"
   ]
  },
  {
   "cell_type": "code",
   "execution_count": null,
   "metadata": {},
   "outputs": [],
   "source": [
    "from dsp.signal import Signal\n",
    "from dsp.generator import Generator\n",
    "from dsp.grapher import Grapher\n",
    "\n",
    "generator = Generator()\n",
    "grapher = Grapher()\n",
    "\n",
    "sinewave_3 = Signal()\n",
    "sinewave_4 = Signal()\n",
    "sinewave_5 = Signal()\n",
    "\n",
    "sinewave_3 = generator.sinewave(fundamental_frequency = 120, fundamental_amplitude = 2)\n",
    "sinewave_4 = generator.sinewave(fundamental_frequency = 50, fundamental_phase = 90)\n",
    "sinewave_5 = generator.sinewave(fundamental_frequency = 230, fundamental_amplitude = 0.5)\n",
    "\n",
    "waveforms_graph = grapher.plot_waveforms(sinewave_3, sinewave_4, sinewave_5)"
   ]
  },
  {
   "cell_type": "markdown",
   "metadata": {},
   "source": [
    "## Compare Spectrum"
   ]
  },
  {
   "cell_type": "code",
   "execution_count": null,
   "metadata": {},
   "outputs": [],
   "source": [
    "from dsp.signal import Signal\n",
    "from dsp.generator import Generator\n",
    "from dsp.grapher import Grapher\n",
    "\n",
    "signal_1 = Signal()\n",
    "signal_2 = Signal()"
   ]
  }
 ],
 "metadata": {
  "kernelspec": {
   "display_name": "Python 3",
   "language": "python",
   "name": "python3"
  },
  "language_info": {
   "codemirror_mode": {
    "name": "ipython",
    "version": 3
   },
   "file_extension": ".py",
   "mimetype": "text/x-python",
   "name": "python",
   "nbconvert_exporter": "python",
   "pygments_lexer": "ipython3",
   "version": "3.11.2"
  },
  "orig_nbformat": 4
 },
 "nbformat": 4,
 "nbformat_minor": 2
}
